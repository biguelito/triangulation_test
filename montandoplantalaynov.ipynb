{
 "cells": [
  {
   "cell_type": "code",
   "execution_count": 2,
   "metadata": {},
   "outputs": [],
   "source": [
    "import numpy as np\n",
    "import matplotlib\n",
    "import matplotlib.pyplot as plt\n",
    "from matplotlib.patches import Rectangle\n",
    "from shapely.geometry import Point\n",
    "from shapely.geometry.polygon import Polygon\n",
    "import math"
   ]
  },
  {
   "cell_type": "code",
   "execution_count": 6,
   "metadata": {},
   "outputs": [
    {
     "data": {
      "text/plain": [
       "<Figure size 1920x1280 with 0 Axes>"
      ]
     },
     "metadata": {},
     "output_type": "display_data"
    },
    {
     "data": {
      "image/png": "[encoded data removed]",
      "text/plain": [
       "<Figure size 432x288 with 1 Axes>"
      ]
     },
     "metadata": {
      "needs_background": "light"
     },
     "output_type": "display_data"
    }
   ],
   "source": [
    "plt.figure(dpi=320)\n",
    "\n",
    "ax = plt.figure().add_subplot(111)\n",
    "\n",
    "plt.xlim([-5, 64.6+5.4])\n",
    "plt.ylim([-2, 12.16+2.84])\n",
    "plt.xticks(np.arange(-5, 71, 5))\n",
    "plt.yticks(np.arange(-2, 16, 2))\n",
    "\n",
    "plt.plot(0, 0, 'bo')\n",
    "plt.plot(64.6, 0, 'bo')\n",
    "plt.plot(64.6, 12.16, 'bo')\n",
    "plt.plot(0, 12.16, 'bo')\n",
    "\n",
    "plt.savefig('teste_sebrae.png', dpi=320)"
   ]
  }
 ],
 "metadata": {
  "interpreter": {
   "hash": "3ce336e9d73e347b2cd4a15a0ee96f3bc5bb59a8df660a57fb9daa082459c8fb"
  },
  "kernelspec": {
   "display_name": "Python 3.9.6 ('venv': venv)",
   "language": "python",
   "name": "python3"
  },
  "language_info": {
   "codemirror_mode": {
    "name": "ipython",
    "version": 3
   },
   "file_extension": ".py",
   "mimetype": "text/x-python",
   "name": "python",
   "nbconvert_exporter": "python",
   "pygments_lexer": "ipython3",
   "version": "3.9.6"
  },
  "orig_nbformat": 4
 },
 "nbformat": 4,
 "nbformat_minor": 2
}
