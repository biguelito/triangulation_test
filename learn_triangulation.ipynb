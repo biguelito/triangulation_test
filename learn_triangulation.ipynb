{
 "cells": [
  {
   "cell_type": "code",
   "execution_count": 86,
   "metadata": {},
   "outputs": [],
   "source": [
    "from scipy.spatial import Delaunay\n",
    "import numpy as np\n",
    "import matplotlib\n",
    "import matplotlib.pyplot as plt\n",
    "from shapely.geometry import Point\n",
    "from shapely.geometry.polygon import Polygon\n",
    "import math\n",
    "from beacon import Beacon\n"
   ]
  },
  {
   "cell_type": "code",
   "execution_count": 87,
   "metadata": {},
   "outputs": [
    {
     "data": {
      "image/png": "[encoded data removed]",
      "text/plain": [
       "<Figure size 432x288 with 1 Axes>"
      ]
     },
     "metadata": {
      "needs_background": "light"
     },
     "output_type": "display_data"
    }
   ],
   "source": [
    "# Criando sala hipotetica para testes de localização\n",
    "\n",
    "ax = plt.figure().add_subplot(111)\n",
    "  \n",
    "area_trabalho = matplotlib.patches.Rectangle((0, 0), 2.75, 3.30,color ='green')\n",
    "area_trabalho2 = matplotlib.patches.Rectangle((2.75, 0), 3.95, 5.2,color ='green')\n",
    "copa = matplotlib.patches.Rectangle((0, 3.3), 3.35, 2.7,color ='yellow')\n",
    "sala_socios = matplotlib.patches.Rectangle((6.7, 0), 3.35, 3.2,color ='blue')\n",
    "sala_reuniao = matplotlib.patches.Rectangle((10.05, 0), 3.35, 3.2,color ='red')\n",
    "cafe = matplotlib.patches.Rectangle((6.7, 3.2), 6.7, 2.7,color ='brown')\n",
    "\n",
    "ax.add_patch(area_trabalho)\n",
    "ax.add_patch(area_trabalho2)\n",
    "ax.add_patch(copa)\n",
    "ax.add_patch(sala_socios)\n",
    "ax.add_patch(sala_reuniao)\n",
    "ax.add_patch(cafe)\n",
    "  \n",
    "plt.xlim([0, 13.4])\n",
    "plt.ylim([0, 5.2])\n",
    "  \n",
    "plt.show()"
   ]
  },
  {
   "cell_type": "code",
   "execution_count": 88,
   "metadata": {},
   "outputs": [
    {
     "data": {
      "image/png": "[encoded data removed]",
      "text/plain": [
       "<Figure size 432x288 with 1 Axes>"
      ]
     },
     "metadata": {
      "needs_background": "light"
     },
     "output_type": "display_data"
    }
   ],
   "source": [
    "# Definindo vertices chaves para definição de cada sala individualmente\n",
    "\n",
    "sala_blue = [\n",
    "    [0,0], [6.7, 0], [10.05, 0], [13.4, 0], \n",
    "    [0, 3.3], [2.75, 3.3], [6.7, 3.3], [10.05, 3.3], [13.4, 3.3],\n",
    "    [0, 5.2], [2.75, 5.2], [6.7, 5.2], [13.4, 5.2]\n",
    "]\n",
    "np_sala_blue = np.array(sala_blue)\n",
    "x_list = np_sala_blue[:,0]\n",
    "y_list = np_sala_blue[:,1]\n",
    "\n",
    "plt.clf()\n",
    "plt.plot(x_list, y_list, 'o')\n",
    "\n",
    "for i in range(13):\n",
    "    plt.text(x_list[i], y_list[i]+0.25, str(i))\n",
    "\n",
    "plt.xlim([-1, 15])\n",
    "plt.ylim([-1, 6])\n",
    "plt.show()"
   ]
  },
  {
   "cell_type": "code",
   "execution_count": 89,
   "metadata": {},
   "outputs": [],
   "source": [
    "def plotar_beacons():\n",
    "    beacon_1 = [8.375, 3.3]\n",
    "    plt.plot(beacon_1[0], beacon_1[1], 'ro')\n",
    "    plt.text(beacon_1[0]+0.2, beacon_1[1]+0.2, '1')\n",
    "\n",
    "    beacon_2 = [13.4, 4.5]\n",
    "    plt.plot(beacon_2[0], beacon_2[1], 'ro')\n",
    "    plt.text(beacon_2[0]-0.5, beacon_2[1], '2')\n",
    "\n",
    "    beacon_3 = [2.75, 4.5]\n",
    "    plt.plot(beacon_3[0], beacon_3[1], 'ro')\n",
    "    plt.text(beacon_3[0]+0.2, beacon_3[1], '3')\n",
    "\n",
    "    beacon_4 = [0, 1.5]\n",
    "    plt.plot(beacon_4[0], beacon_4[1], 'ro')\n",
    "    plt.text(beacon_4[0]+0.2, beacon_4[1], '4')\n",
    "\n",
    "    beacon_5 = [10.05, 1.5]\n",
    "    plt.plot(beacon_5[0], beacon_5[1], 'ro')\n",
    "    plt.text(beacon_5[0]-0.5, beacon_5[1], '5')\n",
    "\n",
    "plt.show()"
   ]
  },
  {
   "cell_type": "code",
   "execution_count": 90,
   "metadata": {},
   "outputs": [
    {
     "data": {
      "image/png": "[encoded data removed]",
      "text/plain": [
       "<Figure size 432x288 with 1 Axes>"
      ]
     },
     "metadata": {
      "needs_background": "light"
     },
     "output_type": "display_data"
    }
   ],
   "source": [
    "# Conectando os pontos para testar se os pontos chaves representam todos os poligonos\n",
    "\n",
    "def connectpoints(p1,p2):\n",
    "    x1, x2 = x_list[p1], x_list[p2]\n",
    "    y1, y2 = y_list[p1], y_list[p2]\n",
    "    plt.plot([x1,x2],[y1,y2],'k-')\n",
    "\n",
    "def connecting(p):\n",
    "    points = p + [p[0]]\n",
    "    for p in range(len(points)-1):\n",
    "        connectpoints(points[p], points[p+1])\n",
    "\n",
    "# Criando metodo para poder trazer essa figura em outras celulas\n",
    "def base_fig():\n",
    "    plt.plot(x_list, y_list, 'o')\n",
    "    connecting(pontos_cafe)\n",
    "    connecting(pontos_sala_reuniao)\n",
    "    connecting(pontos_sala_socios)\n",
    "    connecting(pontos_copa)\n",
    "    connecting(pontos_area_trabalho)\n",
    "    plotar_beacons()\n",
    "\n",
    "pontos_cafe = [6,11,12,8]\n",
    "pontos_sala_reuniao = [2,7,8,3]\n",
    "pontos_sala_socios = [1,6,7,2]\n",
    "pontos_copa = [4,9,10,5]\n",
    "pontos_area_trabalho = [0,1,6,11,10,5,4]\n",
    "\n",
    "base_fig()\n",
    "plt.savefig('base_fig.png')\n",
    "plt.show()"
   ]
  },
  {
   "cell_type": "code",
   "execution_count": 91,
   "metadata": {},
   "outputs": [
    {
     "data": {
      "image/png": "[encoded data removed]",
      "text/plain": [
       "<Figure size 432x288 with 1 Axes>"
      ]
     },
     "metadata": {
      "needs_background": "light"
     },
     "output_type": "display_data"
    },
    {
     "name": "stdout",
     "output_type": "stream",
     "text": [
      "fora de sala_reuniao\n",
      "fora de copa\n",
      "dentro de cafe\n",
      "fora de area_trabalho\n",
      "fora de sala_socios\n"
     ]
    }
   ],
   "source": [
    "# Definindo poligonos para testar em qual cômodo um ponto se encontra \n",
    "# ainda sem uso de beacon\n",
    "base_fig()\n",
    "polygons = {\n",
    "    \"sala_reuniao\": Polygon([sala_blue[i] for i in pontos_sala_reuniao]),\n",
    "    \"copa\": Polygon([sala_blue[i] for i in pontos_copa]),\n",
    "    \"cafe\": Polygon([sala_blue[i] for i in pontos_cafe]),\n",
    "    \"area_trabalho\": Polygon([sala_blue[i] for i in pontos_area_trabalho]),\n",
    "    \"sala_socios\": Polygon([sala_blue[i] for i in pontos_sala_socios]),\n",
    "}\n",
    "p1 = Point(10,5) \n",
    "plt.plot(p1.x, p1.y, 'g*')\n",
    "plt.show()\n",
    "\n",
    "# Existem nuancias a serem tratadas aqui, ex: ponto p1 no mesmo local que um ponto chave\n",
    "for polygon_name, polygon in polygons.items():\n",
    "    if polygon.contains(p1):\n",
    "        print(f'dentro de {polygon_name}')\n",
    "        continue\n",
    "    print(f'fora de {polygon_name}')\n"
   ]
  },
  {
   "cell_type": "code",
   "execution_count": 92,
   "metadata": {},
   "outputs": [
    {
     "data": {
      "image/png": "[encoded data removed]",
      "text/plain": [
       "<Figure size 432x288 with 1 Axes>"
      ]
     },
     "metadata": {
      "needs_background": "light"
     },
     "output_type": "display_data"
    }
   ],
   "source": [
    "base_fig()"
   ]
  },
  {
   "cell_type": "code",
   "execution_count": 93,
   "metadata": {},
   "outputs": [
    {
     "name": "stdout",
     "output_type": "stream",
     "text": [
      "DAQUI A BAIXO SÃO TENTATIVAS DE ENCONTRAR O XY DO N\n"
     ]
    }
   ],
   "source": [
    "print(\"DAQUI A BAIXO SÃO TENTATIVAS DE ENCONTRAR O XY DO N\")"
   ]
  },
  {
   "cell_type": "code",
   "execution_count": 94,
   "metadata": {},
   "outputs": [],
   "source": [
    "PRECISION = 5  # Decimal point precision\n",
    "\n",
    "class Circle(object):\n",
    "    \"\"\" An OOP implementation of a circle as an object \"\"\"\n",
    "\n",
    "    def __init__(self, xposition, yposition, radius):\n",
    "        self.xpos = xposition\n",
    "        self.ypos = yposition\n",
    "        self.radius = radius\n",
    "\n",
    "    def circle_intersect(self, circle2):\n",
    "        \"\"\"\n",
    "        Intersection points of two circles using the construction of triangles\n",
    "        as proposed by Paul Bourke, 1997.\n",
    "        http://paulbourke.net/geometry/circlesphere/\n",
    "        \"\"\"\n",
    "        X1, Y1 = self.xpos, self.ypos\n",
    "        X2, Y2 = circle2.xpos, circle2.ypos\n",
    "        R1, R2 = self.radius, circle2.radius\n",
    "\n",
    "        Dx = X2-X1\n",
    "        Dy = Y2-Y1\n",
    "        D = round(math.sqrt(Dx**2 + Dy**2), PRECISION)\n",
    "        # Distance between circle centres\n",
    "        if D > R1 + R2:\n",
    "            return \"The circles do not intersect\"\n",
    "        elif D < math.fabs(R2 - R1):\n",
    "            return \"No Intersect - One circle is contained within the other\"\n",
    "        elif D == 0 and R1 == R2:\n",
    "            return \"No Intersect - The circles are equal and coincident\"\n",
    "        else:\n",
    "            if D == R1 + R2 or D == R1 - R2:\n",
    "                CASE = \"The circles intersect at a single point\"\n",
    "            else:\n",
    "                CASE = \"The circles intersect at two points\"\n",
    "            chorddistance = (R1**2 - R2**2 + D**2)/(2*D)\n",
    "            # distance from 1st circle's centre to the chord between intersects\n",
    "            halfchordlength = math.sqrt(R1**2 - chorddistance**2)\n",
    "            chordmidpointx = X1 + (chorddistance*Dx)/D\n",
    "            chordmidpointy = Y1 + (chorddistance*Dy)/D\n",
    "            I1 = (round(chordmidpointx + (halfchordlength*Dy)/D, PRECISION),\n",
    "                  round(chordmidpointy - (halfchordlength*Dx)/D, PRECISION))\n",
    "            theta1 = round(math.degrees(math.atan2(I1[1]-Y1, I1[0]-X1)),\n",
    "                           PRECISION)\n",
    "            I2 = (round(chordmidpointx - (halfchordlength*Dy)/D, PRECISION),\n",
    "                  round(chordmidpointy + (halfchordlength*Dx)/D, PRECISION))\n",
    "            theta2 = round(math.degrees(math.atan2(I2[1]-Y1, I2[0]-X1)),\n",
    "                           PRECISION)\n",
    "            if theta2 > theta1:\n",
    "                I1, I2 = I2, I1\n",
    "            return (I1, I2, CASE)"
   ]
  },
  {
   "cell_type": "code",
   "execution_count": 95,
   "metadata": {},
   "outputs": [
    {
     "name": "stdout",
     "output_type": "stream",
     "text": [
      "an 4.242640687119286\n",
      "bn 2.23606797749979\n",
      "cn 3.1622776601683795\n",
      "[([2, 4], 2.23606797749979), ([5, 2], 3.1622776601683795), ([1, 2], 4.242640687119286)]\n",
      "p4 = (4.0, 5.0)\n",
      "n = (4.0, 5.0)\n",
      "True\n"
     ]
    }
   ],
   "source": [
    "# Funcao que valida qual das duas coordenadas é validas\n",
    "# a partir da distancia do ponto mais distante\n",
    "def find_fourth_coordinate(p3, circle_intersection, result):\n",
    "    if math.dist(p3, circle_intersection[0]) == result:\n",
    "        return circle_intersection[0]\n",
    "    return circle_intersection[1]\n",
    "\n",
    "# os 3 pontos simulam os 3 beacons mais proximos\n",
    "a = [1,2]\n",
    "b = [2,4]\n",
    "c = [5,2]\n",
    "\n",
    "# o objetivo final é encontrar a coordenada de N, \n",
    "# aqui será usada uma coordenada ja conhecida para \n",
    "# provar que é possivel encontrar elas com esse metodo\n",
    "n = (4.0,5.0)\n",
    "an = math.dist(a, n)\n",
    "bn = math.dist(b, n)\n",
    "cn = math.dist(c, n)\n",
    "print('an', an)\n",
    "print('bn', bn)\n",
    "print('cn', cn)\n",
    "\n",
    "sorted_distances = sorted([(a, an), (b, bn), (c, cn)], key=lambda x : x[1])\n",
    "print(sorted_distances)\n",
    "\n",
    "p1, r1 = sorted_distances[0]\n",
    "p2, r2 = sorted_distances[1]\n",
    "p3, r3 = sorted_distances[2]\n",
    "\n",
    "circle_p1 = Circle(p1[0], p1[1], r1)\n",
    "circle_p2 = Circle(p2[0], p2[1], r2)\n",
    "\n",
    "p4 = find_fourth_coordinate(p3, circle_p1.circle_intersect(circle_p2), r3) \n",
    "print(f\"p4 = {p4}\\nn = {n}\")\n",
    "print(p4 == n)"
   ]
  }
 ],
 "metadata": {
  "interpreter": {
   "hash": "3ce336e9d73e347b2cd4a15a0ee96f3bc5bb59a8df660a57fb9daa082459c8fb"
  },
  "kernelspec": {
   "display_name": "Python 3.9.6 ('venv': venv)",
   "language": "python",
   "name": "python3"
  },
  "language_info": {
   "codemirror_mode": {
    "name": "ipython",
    "version": 3
   },
   "file_extension": ".py",
   "mimetype": "text/x-python",
   "name": "python",
   "nbconvert_exporter": "python",
   "pygments_lexer": "ipython3",
   "version": "3.9.6"
  },
  "orig_nbformat": 4
 },
 "nbformat": 4,
 "nbformat_minor": 2
}
