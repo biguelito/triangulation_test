{
 "cells": [
  {
   "cell_type": "code",
   "execution_count": 26,
   "metadata": {},
   "outputs": [],
   "source": [
    "from scipy.spatial import Delaunay\n",
    "import numpy as np\n",
    "import matplotlib.pyplot as plt\n",
    "from shapely.geometry import Point\n",
    "from shapely.geometry.polygon import Polygon\n"
   ]
  },
  {
   "cell_type": "code",
   "execution_count": 27,
   "metadata": {},
   "outputs": [],
   "source": [
    "points = [\n",
    "    [0,0], [0, 1.1],\n",
    "    [1, 0], [1,1], \n",
    "]\n",
    "np_points = np.array(points)\n",
    "tri = Delaunay(points)\n"
   ]
  },
  {
   "cell_type": "code",
   "execution_count": 28,
   "metadata": {},
   "outputs": [
    {
     "data": {
      "image/png": "[encoded data removed]",
      "text/plain": [
       "<Figure size 432x288 with 1 Axes>"
      ]
     },
     "metadata": {
      "needs_background": "light"
     },
     "output_type": "display_data"
    }
   ],
   "source": [
    "plt.triplot(np_points[:,0], np_points[:,1], tri.simplices)\n",
    "plt.plot(np_points[:,0], np_points[:,1], 'o')\n",
    "plt.show()"
   ]
  },
  {
   "cell_type": "code",
   "execution_count": 29,
   "metadata": {},
   "outputs": [
    {
     "name": "stdout",
     "output_type": "stream",
     "text": [
      "ponto dentro de a\n",
      "ponto fora de b\n"
     ]
    }
   ],
   "source": [
    "point = Point(0.5, 0.6)\n",
    "\n",
    "polygons = {\n",
    "    'a': Polygon([[0,0], [0,1.1], [1,1]]),\n",
    "    'b': Polygon([[0,0], [1,0], [1,1]])\n",
    "}\n",
    "\n",
    "for polygon_name, polygon in polygons.items():\n",
    "    if polygon.contains(point):\n",
    "        print(f'ponto dentro de {polygon_name}')\n",
    "    else:\n",
    "        print(f'ponto fora de {polygon_name}')"
   ]
  }
 ],
 "metadata": {
  "interpreter": {
   "hash": "3ce336e9d73e347b2cd4a15a0ee96f3bc5bb59a8df660a57fb9daa082459c8fb"
  },
  "kernelspec": {
   "display_name": "Python 3.9.6 ('venv': venv)",
   "language": "python",
   "name": "python3"
  },
  "language_info": {
   "codemirror_mode": {
    "name": "ipython",
    "version": 3
   },
   "file_extension": ".py",
   "mimetype": "text/x-python",
   "name": "python",
   "nbconvert_exporter": "python",
   "pygments_lexer": "ipython3",
   "version": "3.9.6"
  },
  "orig_nbformat": 4
 },
 "nbformat": 4,
 "nbformat_minor": 2
}
