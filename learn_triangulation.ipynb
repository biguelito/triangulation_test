{
 "cells": [
  {
   "cell_type": "code",
   "execution_count": 3,
   "metadata": {},
   "outputs": [],
   "source": [
    "from scipy.spatial import Delaunay\n",
    "import numpy as np\n",
    "import matplotlib\n",
    "import matplotlib.pyplot as plt\n",
    "from shapely.geometry import Point\n",
    "from shapely.geometry.polygon import Polygon\n"
   ]
  },
  {
   "cell_type": "code",
   "execution_count": 4,
   "metadata": {},
   "outputs": [],
   "source": [
    "points = [\n",
    "    [0,0], [0, 1.1],\n",
    "    [1, 0], [1,1], \n",
    "]\n",
    "np_points = np.array(points)\n",
    "tri = Delaunay(points)\n"
   ]
  },
  {
   "cell_type": "code",
   "execution_count": 5,
   "metadata": {},
   "outputs": [
    {
     "data": {
      "image/png": "[encoded data removed]",
      "text/plain": [
       "<Figure size 432x288 with 1 Axes>"
      ]
     },
     "metadata": {
      "needs_background": "light"
     },
     "output_type": "display_data"
    }
   ],
   "source": [
    "plt.triplot(np_points[:,0], np_points[:,1], tri.simplices)\n",
    "plt.plot(np_points[:,0], np_points[:,1], 'o')\n",
    "plt.show()"
   ]
  },
  {
   "cell_type": "code",
   "execution_count": 6,
   "metadata": {},
   "outputs": [
    {
     "name": "stdout",
     "output_type": "stream",
     "text": [
      "ponto dentro de a\n",
      "ponto fora de b\n"
     ]
    }
   ],
   "source": [
    "point = Point(0.5, 0.6)\n",
    "\n",
    "polygons = {\n",
    "    'a': Polygon([[0,0], [0,1.1], [1,1]]),\n",
    "    'b': Polygon([[0,0], [1,0], [1,1]])\n",
    "}\n",
    "\n",
    "for polygon_name, polygon in polygons.items():\n",
    "    if polygon.contains(point):\n",
    "        print(f'ponto dentro de {polygon_name}')\n",
    "    else:\n",
    "        print(f'ponto fora de {polygon_name}')"
   ]
  },
  {
   "cell_type": "code",
   "execution_count": 7,
   "metadata": {},
   "outputs": [
    {
     "data": {
      "image/png": "[encoded data removed]",
      "text/plain": [
       "<Figure size 432x288 with 1 Axes>"
      ]
     },
     "metadata": {
      "needs_background": "light"
     },
     "output_type": "display_data"
    }
   ],
   "source": [
    "ax = plt.figure().add_subplot(111)\n",
    "  \n",
    "area_trabalho = matplotlib.patches.Rectangle((0, 0), 2.75, 3.30,color ='green')\n",
    "area_trabalho2 = matplotlib.patches.Rectangle((2.75, 0), 3.95, 5.2,color ='green')\n",
    "copa = matplotlib.patches.Rectangle((0, 3.3), 3.35, 2.7,color ='yellow')\n",
    "sala_socios = matplotlib.patches.Rectangle((6.7, 0), 3.35, 3.2,color ='blue')\n",
    "sala_reuniao = matplotlib.patches.Rectangle((10.05, 0), 3.35, 3.2,color ='red')\n",
    "cafe = matplotlib.patches.Rectangle((6.7, 3.2), 6.7, 2.7,color ='brown')\n",
    "\n",
    "ax.add_patch(area_trabalho)\n",
    "ax.add_patch(area_trabalho2)\n",
    "ax.add_patch(copa)\n",
    "ax.add_patch(sala_socios)\n",
    "ax.add_patch(sala_reuniao)\n",
    "ax.add_patch(cafe)\n",
    "  \n",
    "plt.xlim([0, 13.4])\n",
    "plt.ylim([0, 5.2])\n",
    "  \n",
    "plt.show()"
   ]
  },
  {
   "cell_type": "code",
   "execution_count": 8,
   "metadata": {},
   "outputs": [
    {
     "data": {
      "image/png": "[encoded data removed]",
      "text/plain": [
       "<Figure size 432x288 with 1 Axes>"
      ]
     },
     "metadata": {
      "needs_background": "light"
     },
     "output_type": "display_data"
    }
   ],
   "source": [
    "sala_blue = [\n",
    "    [0,0], [6.7, 0], [10.05, 0], [13.4, 0], \n",
    "    [0, 3.3], [2.75, 3.3], [6.7, 3.3], [10.05, 3.3], [13.4, 3.3],\n",
    "    [0, 5.2], [2.75, 5.2], [6.7, 5.2], [13.4, 5.2]\n",
    "]\n",
    "np_sala_blue = np.array(sala_blue)\n",
    "x_list = np_sala_blue[:,0]\n",
    "y_list = np_sala_blue[:,1]\n",
    "\n",
    "plt.clf()\n",
    "plt.plot(x_list, y_list, 'o')\n",
    "\n",
    "for i in range(13):\n",
    "    plt.text(x_list[i], y_list[i]+0.25, str(i))\n",
    "\n",
    "plt.xlim([-1, 15])\n",
    "plt.ylim([-1, 6])\n",
    "plt.show()"
   ]
  },
  {
   "cell_type": "code",
   "execution_count": 11,
   "metadata": {},
   "outputs": [
    {
     "data": {
      "image/png": "[encoded data removed]",
      "text/plain": [
       "<Figure size 432x288 with 1 Axes>"
      ]
     },
     "metadata": {
      "needs_background": "light"
     },
     "output_type": "display_data"
    }
   ],
   "source": [
    "def connectpoints(p1,p2):\n",
    "    x1, x2 = x_list[p1], x_list[p2]\n",
    "    y1, y2 = y_list[p1], y_list[p2]\n",
    "    plt.plot([x1,x2],[y1,y2],'k-')\n",
    "\n",
    "def connecting(p):\n",
    "    points = p + [p[0]]\n",
    "    for p in range(len(points)-1):\n",
    "        connectpoints(points[p], points[p+1])\n",
    "\n",
    "plt.plot(x_list, y_list, 'o')\n",
    "\n",
    "pontos_cafe = [6,11,12,8]\n",
    "pontos_sala_reuniao = [2,7,8,3]\n",
    "pontos_sala_socios = [1,6,7,2]\n",
    "pontos_copa = [4,9,10,5]\n",
    "pontos_area_trabalho = [0,1,6,11,10,5,4]\n",
    "\n",
    "connecting(pontos_cafe)\n",
    "connecting(pontos_sala_reuniao)\n",
    "connecting(pontos_sala_socios)\n",
    "connecting(pontos_copa)\n",
    "connecting(pontos_area_trabalho)\n",
    "\n",
    "plt.show()"
   ]
  },
  {
   "cell_type": "code",
   "execution_count": 13,
   "metadata": {},
   "outputs": [
    {
     "name": "stdout",
     "output_type": "stream",
     "text": [
      "fora de sala_reuniao\n",
      "fora de copa\n",
      "dentro de cafe\n",
      "fora de area_trabalho\n",
      "fora de sala_socios\n"
     ]
    }
   ],
   "source": [
    "polygons = {\n",
    "    \"sala_reuniao\": Polygon([sala_blue[i] for i in pontos_sala_reuniao]),\n",
    "    \"copa\": Polygon([sala_blue[i] for i in pontos_copa]),\n",
    "    \"cafe\": Polygon([sala_blue[i] for i in pontos_cafe]),\n",
    "    \"area_trabalho\": Polygon([sala_blue[i] for i in pontos_area_trabalho]),\n",
    "    \"sala_socios\": Polygon([sala_blue[i] for i in pontos_sala_socios]),\n",
    "}\n",
    "p1 = Point(13,5) \n",
    "\n",
    "for polygon_name, polygon in polygons.items():\n",
    "    if polygon.contains(p1):\n",
    "        print(f'dentro de {polygon_name}')\n",
    "        continue\n",
    "    print(f'fora de {polygon_name}')\n"
   ]
  }
 ],
 "metadata": {
  "interpreter": {
   "hash": "3ce336e9d73e347b2cd4a15a0ee96f3bc5bb59a8df660a57fb9daa082459c8fb"
  },
  "kernelspec": {
   "display_name": "Python 3.9.6 ('venv': venv)",
   "language": "python",
   "name": "python3"
  },
  "language_info": {
   "codemirror_mode": {
    "name": "ipython",
    "version": 3
   },
   "file_extension": ".py",
   "mimetype": "text/x-python",
   "name": "python",
   "nbconvert_exporter": "python",
   "pygments_lexer": "ipython3",
   "version": "3.9.6"
  },
  "orig_nbformat": 4
 },
 "nbformat": 4,
 "nbformat_minor": 2
}
